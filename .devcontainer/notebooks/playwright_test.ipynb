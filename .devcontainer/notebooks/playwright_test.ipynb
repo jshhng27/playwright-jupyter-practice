{
  "nbformat": 4,
  "nbformat_minor": 0,
  "metadata": {
    "kernelspec": {
      "display_name": "Python 3",
      "language": "python",
      "name": "python3"
    }
  },
  "cells": []
}
